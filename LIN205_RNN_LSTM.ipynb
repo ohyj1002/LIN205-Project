{
  "nbformat": 4,
  "nbformat_minor": 0,
  "metadata": {
    "colab": {
      "name": "LIN205_RNN_LSTM.ipynb",
      "provenance": [],
      "collapsed_sections": [],
      "toc_visible": true
    },
    "kernelspec": {
      "name": "python3",
      "display_name": "Python 3"
    }
  },
  "cells": [
    {
      "cell_type": "markdown",
      "metadata": {
        "id": "6hAPGAdC47at",
        "colab_type": "text"
      },
      "source": [
        "# **This is the code for Recurrent Neural Model - Long Short Term Memory classifier. Below is the original code I adapted from.**\n",
        "\n",
        "# The codes can be used in the jupyter notebook as well (with minimal adaptation)\n",
        "\n",
        "# Source:\n",
        "\n",
        "https://medium.com/@hemantranvir/spam-detection-using-rnn-simplernn-lstm-with-step-by-step-explanation-530367608071\n",
        "\n",
        "https://github.com/hemantranvir/spam_detector_rnn/blob/master/spam_detection_rnn.py\n",
        "\n"
      ]
    },
    {
      "cell_type": "code",
      "metadata": {
        "id": "R2hpAHJ1RNMy",
        "colab_type": "code",
        "outputId": "14966d88-a444-4456-cba9-4e8f92354ee6",
        "colab": {
          "base_uri": "https://localhost:8080/",
          "height": 69
        }
      },
      "source": [
        "from keras.layers import SimpleRNN, LSTM, GRU, Embedding, Dense, Flatten\n",
        "from keras.models import Sequential\n",
        "from keras.preprocessing.text import Tokenizer\n",
        "from keras.preprocessing.sequence import pad_sequences\n",
        "from keras.callbacks import TensorBoard\n",
        "from keras.utils import plot_model\n",
        "from keras.models import Model\n",
        "from keras.layers import LSTM, Activation, Dense, Dropout, Input, Embedding\n",
        "from keras.optimizers import RMSprop\n",
        "from keras.preprocessing import sequence\n",
        "from keras.utils import to_categorical\n",
        "from keras.callbacks import EarlyStopping\n",
        "from sklearn.model_selection import train_test_split\n",
        "from sklearn.preprocessing import LabelEncoder\n",
        "\n",
        "import seaborn as sns\n",
        "import pandas as pd\n",
        "import numpy as np\n",
        "import matplotlib.pyplot as plt\n"
      ],
      "execution_count": 1,
      "outputs": [
        {
          "output_type": "stream",
          "text": [
            "Using TensorFlow backend.\n",
            "/usr/local/lib/python3.6/dist-packages/statsmodels/tools/_testing.py:19: FutureWarning: pandas.util.testing is deprecated. Use the functions in the public API at pandas.testing instead.\n",
            "  import pandas.util.testing as tm\n"
          ],
          "name": "stderr"
        }
      ]
    },
    {
      "cell_type": "markdown",
      "metadata": {
        "id": "5z9a_ki99FSp",
        "colab_type": "text"
      },
      "source": [
        "# **Importing Training dataset**\n",
        "\n",
        "# 1427 examples are labeled in the training dataset. \n",
        "\n",
        "# There are three types of training dataset (one for each category).\n",
        "\n",
        "1) train_data_1400_pos (dataset for positive socioemotional category)\n",
        "\n",
        "2) train_data_1400_neg (dataset for negative socioemotional category)\n",
        "\n",
        "3) train_data_1400_task (dataset for task-focused category)\n",
        "\n",
        "# After downloading the dataset (from /data folder), change path in order to load the file (for own use)"
      ]
    },
    {
      "cell_type": "code",
      "metadata": {
        "id": "qT0cq-V0WTOA",
        "colab_type": "code",
        "outputId": "73f7bd3e-ada8-456a-88dd-51ec730576f9",
        "colab": {
          "base_uri": "https://localhost:8080/",
          "height": 202
        }
      },
      "source": [
        "data = pd.read_csv(\"/content/drive/My Drive/Colab Notebooks/Colab Datasets/train_data_1400_pos.csv\",encoding= 'unicode_escape') # positive socioemotional\n",
        "#data = pd.read_csv(\"/content/drive/My Drive/Colab Notebooks/Colab Datasets/train_data_1400_neg.csv\",encoding= 'unicode_escape') # negative socioemotional\n",
        "#data = pd.read_csv(\"/content/drive/My Drive/Colab Notebooks/Colab Datasets/train_data_1400_task.csv\",encoding= 'unicode_escape') # task-focused\n",
        "data.head()"
      ],
      "execution_count": 2,
      "outputs": [
        {
          "output_type": "execute_result",
          "data": {
            "text/html": [
              "<div>\n",
              "<style scoped>\n",
              "    .dataframe tbody tr th:only-of-type {\n",
              "        vertical-align: middle;\n",
              "    }\n",
              "\n",
              "    .dataframe tbody tr th {\n",
              "        vertical-align: top;\n",
              "    }\n",
              "\n",
              "    .dataframe thead th {\n",
              "        text-align: right;\n",
              "    }\n",
              "</style>\n",
              "<table border=\"1\" class=\"dataframe\">\n",
              "  <thead>\n",
              "    <tr style=\"text-align: right;\">\n",
              "      <th></th>\n",
              "      <th>id</th>\n",
              "      <th>pos</th>\n",
              "      <th>comment_text</th>\n",
              "    </tr>\n",
              "  </thead>\n",
              "  <tbody>\n",
              "    <tr>\n",
              "      <th>0</th>\n",
              "      <td>1</td>\n",
              "      <td>1</td>\n",
              "      <td>Hello, how are you doing today?</td>\n",
              "    </tr>\n",
              "    <tr>\n",
              "      <th>1</th>\n",
              "      <td>2</td>\n",
              "      <td>1</td>\n",
              "      <td>I am doing good. How about you?</td>\n",
              "    </tr>\n",
              "    <tr>\n",
              "      <th>2</th>\n",
              "      <td>3</td>\n",
              "      <td>1</td>\n",
              "      <td>very well thank you. I'm here today to see if ...</td>\n",
              "    </tr>\n",
              "    <tr>\n",
              "      <th>3</th>\n",
              "      <td>4</td>\n",
              "      <td>1</td>\n",
              "      <td>I am might be. Tell me a little about it.</td>\n",
              "    </tr>\n",
              "    <tr>\n",
              "      <th>4</th>\n",
              "      <td>5</td>\n",
              "      <td>0</td>\n",
              "      <td>Save the Children is an international non-gove...</td>\n",
              "    </tr>\n",
              "  </tbody>\n",
              "</table>\n",
              "</div>"
            ],
            "text/plain": [
              "   id  pos                                       comment_text\n",
              "0   1    1                    Hello, how are you doing today?\n",
              "1   2    1                    I am doing good. How about you?\n",
              "2   3    1  very well thank you. I'm here today to see if ...\n",
              "3   4    1          I am might be. Tell me a little about it.\n",
              "4   5    0  Save the Children is an international non-gove..."
            ]
          },
          "metadata": {
            "tags": []
          },
          "execution_count": 2
        }
      ]
    },
    {
      "cell_type": "markdown",
      "metadata": {
        "id": "NL5Ex6go-a5E",
        "colab_type": "text"
      },
      "source": [
        "# **Preprocessing**\n",
        "\n",
        "# After importing the dataset, save the messages as list of strings and corresponding labels (0 or 1) and convert into numpy array. Caution: make sure to change the column name (pos, neg, task) for each dataset \n",
        "\n",
        "# Then, using keras' Tokenizer, convert the array of sequences of strings (messages) to a list of sequences of integers"
      ]
    },
    {
      "cell_type": "code",
      "metadata": {
        "id": "Sjf8dj3bWdQc",
        "colab_type": "code",
        "outputId": "3d9c5ce2-9534-4eac-eb13-9f41a9c7f963",
        "colab": {
          "base_uri": "https://localhost:8080/",
          "height": 52
        }
      },
      "source": [
        "    messages = data['comment_text']\n",
        "    labels = data['pos']\n",
        "    messages = np.asarray(messages)\n",
        "    labels = np.asarray(labels)\n",
        "\n",
        "    print(\"Number of messages: \", len(messages))\n",
        "    print(\"Number of labels: \", len(labels))"
      ],
      "execution_count": 3,
      "outputs": [
        {
          "output_type": "stream",
          "text": [
            "Number of messages:  1427\n",
            "Number of labels:  1427\n"
          ],
          "name": "stdout"
        }
      ]
    },
    {
      "cell_type": "code",
      "metadata": {
        "id": "sFwZBHOmWolL",
        "colab_type": "code",
        "outputId": "574182ba-69c0-46dd-b645-237a4d6928b3",
        "colab": {
          "base_uri": "https://localhost:8080/",
          "height": 34
        }
      },
      "source": [
        "    max_vocab = 5000 \n",
        "    max_len = 100 \n",
        "\n",
        "    # Ignore all words except the 5000 most common words\n",
        "    tokenizer = Tokenizer(num_words=max_vocab)\n",
        "\n",
        "    # Calculate the frequency of words\n",
        "    tokenizer.fit_on_texts(messages)\n",
        "    \n",
        "    # Convert array of messages to list of sequences of integers\n",
        "    sequences = tokenizer.texts_to_sequences(messages)\n",
        "\n",
        "    # Dict keeping track of words to integer index\n",
        "    word_index = tokenizer.word_index\n",
        "\n",
        "    # Convert the array of sequences(of integers) to 2D array with padding\n",
        "    # maxlen specifies the maximum length of sequence (truncated if longer, padded if shorter)\n",
        "    data = pad_sequences(sequences, maxlen=max_len)\n",
        "\n",
        "    print(\"data shape: \", data.shape)"
      ],
      "execution_count": 4,
      "outputs": [
        {
          "output_type": "stream",
          "text": [
            "data shape:  (1427, 100)\n"
          ],
          "name": "stdout"
        }
      ]
    },
    {
      "cell_type": "markdown",
      "metadata": {
        "id": "CMhwTyOZC3_q",
        "colab_type": "text"
      },
      "source": [
        "# **Split dataset into training (80%) and testing (20%)**"
      ]
    },
    {
      "cell_type": "code",
      "metadata": {
        "id": "K8ANeosqYb4u",
        "colab_type": "code",
        "colab": {}
      },
      "source": [
        "# We will use 80% of data for training & validation(80% train, 20% validation) and 20% for testing\n",
        "\n",
        "from sklearn.model_selection import train_test_split\n",
        "RANDOM_SEED = 42\n",
        "np.random.seed(RANDOM_SEED)\n",
        "\n",
        "X_train, X_test, y_train, y_test = train_test_split(data, labels, test_size=0.2, random_state=RANDOM_SEED)"
      ],
      "execution_count": 0,
      "outputs": []
    },
    {
      "cell_type": "markdown",
      "metadata": {
        "id": "XbcxTo_cmNZ9",
        "colab_type": "text"
      },
      "source": [
        "# **Loading the 1) pre-trained GloVe word embedding and 2) custom pre-trained word embedding files into memory as a dictionary of word to embedding array.**\n",
        "\n",
        "Source for Glove embedding: https://nlp.stanford.edu/projects/glove/\n",
        "\n",
        "Source for custom embedding: Refer to \"LIN_Custom_Embedding.ipynb\" in my github"
      ]
    },
    {
      "cell_type": "code",
      "metadata": {
        "id": "Sdtl4YFWmQ_Y",
        "colab_type": "code",
        "outputId": "d6f8b604-40c0-4a35-921f-61650c283745",
        "colab": {
          "base_uri": "https://localhost:8080/",
          "height": 34
        }
      },
      "source": [
        "# load the whole embedding into memory\n",
        "\n",
        "embeddings_index = dict()\n",
        "\n",
        "# 1) pre-trained glove embedding\n",
        "GLOVE_EMBEDDING = \"/content/drive/My Drive/Colab Notebooks/Colab Datasets/glove.6B.100d.txt\"\n",
        "\n",
        "# 2) custom pre-trained embedding (run the below line when needed)\n",
        "# GLOVE_EMBEDDING = \"/content/drive/My Drive/Colab Notebooks/Colab Datasets/custom_glove_100d.txt\"\n",
        "\n",
        "f = open(GLOVE_EMBEDDING) \n",
        "for line in f:\n",
        "\tvalues = line.split()\n",
        "\tword = values[0]\n",
        "\tcoefs = np.asarray(values[1:], dtype='float32')\n",
        "\tembeddings_index[word] = coefs\n",
        "f.close()\n",
        "print('Loaded %s word vectors.' % len(embeddings_index))\n"
      ],
      "execution_count": 6,
      "outputs": [
        {
          "output_type": "stream",
          "text": [
            "Loaded 400000 word vectors.\n"
          ],
          "name": "stdout"
        }
      ]
    },
    {
      "cell_type": "markdown",
      "metadata": {
        "id": "oPDMU5VfHeeA",
        "colab_type": "text"
      },
      "source": [
        "# Creating a matrix of one embedding for each word in the training dataset. This is done by enumerating all unique words in the Tokenizer.word_index and locating the embedding weight vector from the loaded 1) GloVe OR 2) Custom pre-trained embedding."
      ]
    },
    {
      "cell_type": "code",
      "metadata": {
        "id": "1FhX3uofngKx",
        "colab_type": "code",
        "colab": {}
      },
      "source": [
        "# create a weight matrix for words in training docs\n",
        "embedding_matrix = np.zeros((max_vocab, 100)) \n",
        "for word, i in tokenizer.word_index.items():\n",
        "\tembedding_vector = embeddings_index.get(word)\n",
        "\tif embedding_vector is not None:\n",
        "\t\tembedding_matrix[i] = embedding_vector"
      ],
      "execution_count": 0,
      "outputs": []
    },
    {
      "cell_type": "markdown",
      "metadata": {
        "id": "apIfZrvHJXIp",
        "colab_type": "text"
      },
      "source": [
        "Here, I chose 100 dimensional embedding layer. Below, embedding layer is the line \"e\"\n",
        "\n",
        "I also set 100 units for LSTM layer.\n"
      ]
    },
    {
      "cell_type": "code",
      "metadata": {
        "id": "uGnlNj2mYiuF",
        "colab_type": "code",
        "outputId": "bde939ba-d838-4046-d4b9-c08789de388f",
        "colab": {
          "base_uri": "https://localhost:8080/",
          "height": 260
        }
      },
      "source": [
        "    # Construct the LSTM-RNN model\n",
        "    model = Sequential()\n",
        "    embedding_mat_columns=100 \n",
        "    \n",
        "    e = Embedding(max_vocab, embedding_mat_columns, weights=[embedding_matrix], input_length=max_len, trainable=False) \n",
        "    model.add(e)\n",
        "    model.add(LSTM(units=100))\n",
        "    model.add(Dense(1, activation = 'sigmoid')) #sigmoid they do not influence each other - also appropriate for multi-label\n",
        "    model.compile(optimizer='rmsprop', loss='binary_crossentropy', metrics=['acc']) \n",
        "    model.summary()"
      ],
      "execution_count": 8,
      "outputs": [
        {
          "output_type": "stream",
          "text": [
            "Model: \"sequential_1\"\n",
            "_________________________________________________________________\n",
            "Layer (type)                 Output Shape              Param #   \n",
            "=================================================================\n",
            "embedding_1 (Embedding)      (None, 100, 100)          500000    \n",
            "_________________________________________________________________\n",
            "lstm_1 (LSTM)                (None, 100)               80400     \n",
            "_________________________________________________________________\n",
            "dense_1 (Dense)              (None, 1)                 101       \n",
            "=================================================================\n",
            "Total params: 580,501\n",
            "Trainable params: 80,501\n",
            "Non-trainable params: 500,000\n",
            "_________________________________________________________________\n"
          ],
          "name": "stdout"
        }
      ]
    },
    {
      "cell_type": "code",
      "metadata": {
        "id": "AKMwheqUYt-a",
        "colab_type": "code",
        "outputId": "a6d137e4-af3a-48ec-98ea-1f56c55c87b5",
        "colab": {
          "base_uri": "https://localhost:8080/",
          "height": 422
        }
      },
      "source": [
        "    plot_model(model, to_file='model.png', show_shapes=True, show_layer_names=True)"
      ],
      "execution_count": 9,
      "outputs": [
        {
          "output_type": "execute_result",
          "data": {
            "image/png": "[encoded data removed]",
            "text/plain": [
              "<IPython.core.display.Image object>"
            ]
          },
          "metadata": {
            "tags": []
          },
          "execution_count": 9
        }
      ]
    },
    {
      "cell_type": "markdown",
      "metadata": {
        "id": "mfxF34srLmuW",
        "colab_type": "text"
      },
      "source": [
        "# **Training the model**"
      ]
    },
    {
      "cell_type": "code",
      "metadata": {
        "id": "EoQAVU3PZAXE",
        "colab_type": "code",
        "outputId": "fb740334-551c-49ee-f20f-8b7d00554cf5",
        "colab": {
          "base_uri": "https://localhost:8080/",
          "height": 190
        }
      },
      "source": [
        "    # Training the model\n",
        "    model.fit(X_train, y_train, epochs=50, batch_size=30, validation_split=0.2, \n",
        "              callbacks=[EarlyStopping(monitor='val_loss',min_delta=0.0001)]) "
      ],
      "execution_count": 10,
      "outputs": [
        {
          "output_type": "stream",
          "text": [
            "Train on 912 samples, validate on 229 samples\n",
            "Epoch 1/50\n",
            "912/912 [==============================] - 3s 3ms/step - loss: 0.6428 - acc: 0.6502 - val_loss: 0.6562 - val_acc: 0.6550\n",
            "Epoch 2/50\n",
            "912/912 [==============================] - 3s 3ms/step - loss: 0.5644 - acc: 0.7259 - val_loss: 0.5953 - val_acc: 0.7162\n",
            "Epoch 3/50\n",
            "912/912 [==============================] - 3s 3ms/step - loss: 0.5204 - acc: 0.7544 - val_loss: 0.5626 - val_acc: 0.7249\n",
            "Epoch 4/50\n",
            "912/912 [==============================] - 3s 3ms/step - loss: 0.4787 - acc: 0.7873 - val_loss: 0.5927 - val_acc: 0.6943\n"
          ],
          "name": "stdout"
        },
        {
          "output_type": "execute_result",
          "data": {
            "text/plain": [
              "<keras.callbacks.callbacks.History at 0x7f487490ed30>"
            ]
          },
          "metadata": {
            "tags": []
          },
          "execution_count": 10
        }
      ]
    },
    {
      "cell_type": "markdown",
      "metadata": {
        "id": "SBrp2mBlLrDy",
        "colab_type": "text"
      },
      "source": [
        "# **Testing the model**"
      ]
    },
    {
      "cell_type": "code",
      "metadata": {
        "id": "EQGAHyTSZVQl",
        "colab_type": "code",
        "outputId": "dac84fae-54e5-43bc-b191-4112dd449719",
        "colab": {
          "base_uri": "https://localhost:8080/",
          "height": 52
        }
      },
      "source": [
        "    # Testing the model\n",
        "    pred = model.predict_classes(X_test)\n",
        "    acc = model.evaluate(X_test, y_test)\n",
        "    print(\"Test loss is {0:.2f} accuracy is {1:.2f}  \".format(acc[0],acc[1]))"
      ],
      "execution_count": 11,
      "outputs": [
        {
          "output_type": "stream",
          "text": [
            "286/286 [==============================] - 0s 788us/step\n",
            "Test loss is 0.53 accuracy is 0.74  \n"
          ],
          "name": "stdout"
        }
      ]
    },
    {
      "cell_type": "code",
      "metadata": {
        "id": "Djf32-gLWYXH",
        "colab_type": "code",
        "colab": {}
      },
      "source": [
        "    def message_to_array(msg):\n",
        "        msg = msg.lower().split(' ')\n",
        "        test_seq = np.array([word_index[word] for word in msg])\n",
        "        test_seq = np.pad(test_seq, (100-len(test_seq), 0), 'constant', constant_values=(0)) \n",
        "        test_seq = test_seq.reshape(1, 100) \n",
        "        return test_seq"
      ],
      "execution_count": 0,
      "outputs": []
    },
    {
      "cell_type": "code",
      "metadata": {
        "id": "LCYgBHD7ZfDp",
        "colab_type": "code",
        "outputId": "899971e7-baab-4cf7-e033-00e514f7f559",
        "colab": {
          "base_uri": "https://localhost:8080/",
          "height": 34
        }
      },
      "source": [
        "    custom_msg = 'I like it' \n",
        "    test_seq = message_to_array(custom_msg)\n",
        "    pred = model.predict_classes(test_seq)\n",
        "    print(pred)"
      ],
      "execution_count": 13,
      "outputs": [
        {
          "output_type": "stream",
          "text": [
            "[[1]]\n"
          ],
          "name": "stdout"
        }
      ]
    },
    {
      "cell_type": "markdown",
      "metadata": {
        "id": "3O8S4wg8MF7Z",
        "colab_type": "text"
      },
      "source": [
        "# **Classification reports (accuracy, precision, recall, f1-score)**"
      ]
    },
    {
      "cell_type": "code",
      "metadata": {
        "id": "xHDp0Jt0G0Wb",
        "colab_type": "code",
        "outputId": "99f8f8a8-1278-4ef4-f1b1-59563212bff5",
        "colab": {
          "base_uri": "https://localhost:8080/",
          "height": 173
        }
      },
      "source": [
        "from sklearn.metrics import accuracy_score\n",
        "from sklearn.metrics import classification_report, confusion_matrix\n",
        "\n",
        "pred = model.predict_classes(X_test)\n",
        "print(classification_report(y_test,pred))"
      ],
      "execution_count": 14,
      "outputs": [
        {
          "output_type": "stream",
          "text": [
            "              precision    recall  f1-score   support\n",
            "\n",
            "           0       0.83      0.63      0.71       147\n",
            "           1       0.69      0.86      0.76       139\n",
            "\n",
            "    accuracy                           0.74       286\n",
            "   macro avg       0.76      0.74      0.74       286\n",
            "weighted avg       0.76      0.74      0.74       286\n",
            "\n"
          ],
          "name": "stdout"
        }
      ]
    },
    {
      "cell_type": "code",
      "metadata": {
        "id": "Mp3r9720Y7o3",
        "colab_type": "code",
        "outputId": "88dd8fe6-9c08-417b-ec24-66389bb6895f",
        "colab": {
          "base_uri": "https://localhost:8080/",
          "height": 52
        }
      },
      "source": [
        "cnf_matrix = confusion_matrix(y_test, pred)\n",
        "cnf_matrix"
      ],
      "execution_count": 15,
      "outputs": [
        {
          "output_type": "execute_result",
          "data": {
            "text/plain": [
              "array([[ 92,  55],\n",
              "       [ 19, 120]])"
            ]
          },
          "metadata": {
            "tags": []
          },
          "execution_count": 15
        }
      ]
    },
    {
      "cell_type": "code",
      "metadata": {
        "id": "3M5Zuq6zZEDf",
        "colab_type": "code",
        "outputId": "8a94221e-1b17-44bc-e4c7-2a90ed32372d",
        "colab": {
          "base_uri": "https://localhost:8080/",
          "height": 309
        }
      },
      "source": [
        "class_names = [\"0\", \"1\"]\n",
        "fig,ax = plt.subplots()\n",
        "\n",
        "sns.heatmap(pd.DataFrame(cnf_matrix), annot=True, cmap=\"Blues\", fmt=\"d\", cbar=False, xticklabels=class_names, yticklabels=class_names)\n",
        "ax.xaxis.set_label_position('top')\n",
        "plt.tight_layout()\n",
        "plt.ylabel('Actual category')\n",
        "plt.xlabel('Predicted category');"
      ],
      "execution_count": 16,
      "outputs": [
        {
          "output_type": "display_data",
          "data": {
            "image/png": "[encoded data removed]",
            "text/plain": [
              "<Figure size 432x288 with 1 Axes>"
            ]
          },
          "metadata": {
            "tags": [],
            "needs_background": "light"
          }
        }
      ]
    }
  ]
}